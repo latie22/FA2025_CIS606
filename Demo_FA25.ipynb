{
  "nbformat": 4,
  "nbformat_minor": 0,
  "metadata": {
    "colab": {
      "provenance": []
    },
    "kernelspec": {
      "name": "python3",
      "display_name": "Python 3"
    },
    "language_info": {
      "name": "python"
    }
  },
  "cells": [
    {
      "cell_type": "code",
      "source": [
        "print(\"hello world\")"
      ],
      "metadata": {
        "colab": {
          "base_uri": "https://localhost:8080/"
        },
        "id": "Q4wBFIVVOxxN",
        "outputId": "b7f1554d-9523-475a-ac4b-807e92745534"
      },
      "execution_count": 1,
      "outputs": [
        {
          "output_type": "stream",
          "name": "stdout",
          "text": [
            "hello world\n"
          ]
        }
      ]
    },
    {
      "cell_type": "markdown",
      "source": [
        "# ***I enjoy CIS 606***"
      ],
      "metadata": {
        "id": "D38p8x5dPKcw"
      }
    },
    {
      "cell_type": "code",
      "execution_count": 2,
      "metadata": {
        "colab": {
          "base_uri": "https://localhost:8080/"
        },
        "id": "JVm6z8_wOF8n",
        "outputId": "4263baca-e4c1-4104-91d0-8390372a7ab0"
      },
      "outputs": [
        {
          "output_type": "stream",
          "name": "stdout",
          "text": [
            "hello CIS 606 classmates\n"
          ]
        }
      ],
      "source": [
        "print(\"hello CIS 606 classmates\")"
      ]
    }
  ]
}